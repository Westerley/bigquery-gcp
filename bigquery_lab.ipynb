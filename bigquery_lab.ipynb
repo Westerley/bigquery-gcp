{
 "cells": [
  {
   "cell_type": "code",
   "execution_count": null,
   "id": "a99de8a4",
   "metadata": {},
   "outputs": [],
   "source": [
    "#!pip install --upgrade google-cloud-bigquery[bqstorage,pandas]\n",
    "#!pip install google-cloud-bigquery-storage"
   ]
  },
  {
   "cell_type": "code",
   "execution_count": null,
   "id": "b8d1ebbe",
   "metadata": {},
   "outputs": [],
   "source": [
    "import os\n",
    "from google.cloud import bigquery\n",
    "from google.cloud import bigquery_storage"
   ]
  },
  {
   "cell_type": "code",
   "execution_count": null,
   "id": "ff656219",
   "metadata": {},
   "outputs": [],
   "source": [
    "bigquery.__version__"
   ]
  },
  {
   "cell_type": "markdown",
   "id": "f0d7628e",
   "metadata": {},
   "source": [
    "#### Requirements\n",
    "In order to execute the lab, you need create a service account with the following roles:\n",
    "- BigQuery Data Editor\n",
    "- BigQuery Job User\n",
    "- BigQuery Read Session User\n",
    "- Storage Admin"
   ]
  },
  {
   "cell_type": "code",
   "execution_count": null,
   "id": "1d2362d7",
   "metadata": {},
   "outputs": [],
   "source": [
    "service_account = os.path.dirname(os.path.realpath('__file__')) + \"/service-account.json\"\n",
    "os.environ[\"GOOGLE_APPLICATION_CREDENTIALS\"] = service_account"
   ]
  },
  {
   "cell_type": "code",
   "execution_count": null,
   "id": "36a6e1e9-ede4-45be-a7ef-f76d291ac108",
   "metadata": {},
   "outputs": [],
   "source": [
    "# Bigquery instance\n",
    "bigquery_client = bigquery.Client()"
   ]
  },
  {
   "cell_type": "markdown",
   "id": "9f05fc66-7d0d-4ac5-8829-9a14302f1572",
   "metadata": {},
   "source": [
    "#### Create dataset and table"
   ]
  },
  {
   "cell_type": "code",
   "execution_count": null,
   "id": "71e9401a-6a1b-4f8d-bc4a-bac8e98f4d22",
   "metadata": {},
   "outputs": [],
   "source": [
    "# Create dataset\n",
    "dataset = bigquery_client.create_dataset(dataset=\"bigquery_lab\")"
   ]
  },
  {
   "cell_type": "code",
   "execution_count": null,
   "id": "de42b5f1-6e24-4a06-814a-ee58ee1660c1",
   "metadata": {},
   "outputs": [],
   "source": [
    "# Create table\n",
    "table = dataset.table(table_id=\"Person\")\n",
    "schema = [\n",
    "    bigquery.SchemaField(name=\"name\", field_type=\"STRING\", mode=\"REQUIRED\"),\n",
    "    bigquery.SchemaField(name=\"age\", field_type=\"INTEGER\", mode=\"REQUIRED\")\n",
    "]\n",
    "table = bigquery.Table(table_ref=table, schema=schema)\n",
    "table = bigquery_client.create_table(table=table) \n",
    "print(table.table_id)"
   ]
  },
  {
   "cell_type": "markdown",
   "id": "e96903c9-34d8-43cd-8ac5-7e95e22293d0",
   "metadata": {},
   "source": [
    "#### Import csv from google storage"
   ]
  },
  {
   "cell_type": "code",
   "execution_count": null,
   "id": "7a4e2886-f244-4363-8ee1-aba7c883588c",
   "metadata": {},
   "outputs": [],
   "source": [
    "uri = \"gs://bigquery-lab/Housing.csv\"\n",
    "\n",
    "try:\n",
    "    dataset = bigquery_client.dataset(dataset_id=\"bigquery_lab\")\n",
    "    # Create table\n",
    "    table = dataset.table(table_id=\"housing\")\n",
    "    \n",
    "    # Create schema\n",
    "    job_config = bigquery.job.LoadJobConfig(\n",
    "        autodetect=True,\n",
    "        source_format = bigquery.SourceFormat.CSV,\n",
    "        field_delimiter = \",\",\n",
    "        skip_leading_rows = 1\n",
    "    )\n",
    "\n",
    "    load_job = bigquery_client.load_table_from_uri(source_uris=uri, destination=table, job_config=job_config)\n",
    "\n",
    "    load_job.result()\n",
    "except Exception as err:\n",
    "    print(err)"
   ]
  },
  {
   "cell_type": "markdown",
   "id": "649deab7",
   "metadata": {},
   "source": [
    "#### Import csv from local storage"
   ]
  },
  {
   "cell_type": "code",
   "execution_count": null,
   "id": "48ab05a0-32e6-4147-8818-b291be8837a0",
   "metadata": {},
   "outputs": [],
   "source": [
    "try:\n",
    "    dataset = bigquery_client.dataset(dataset_id=\"bigquery_lab\")\n",
    "    table = dataset.table(table_id=\"titanic\")\n",
    "    job_config = bigquery.job.LoadJobConfig(\n",
    "        autodetect=True,\n",
    "        field_delimiter=\";\",\n",
    "        source_format=bigquery.SourceFormat.CSV\n",
    "    )\n",
    "    \n",
    "    with open(\"./titanic.csv\", \"rb\") as source_file:\n",
    "        load_job = bigquery_client.load_table_from_file(file_obj=source_file, \n",
    "                                                        destination=table, \n",
    "                                                        job_config=job_config)\n",
    "\n",
    "    load_job.result()\n",
    "except Exception as err:\n",
    "    print(err)"
   ]
  },
  {
   "cell_type": "markdown",
   "id": "138b75cb-f00d-4ccf-a698-d1f372ec80fe",
   "metadata": {},
   "source": [
    "#### Quering data with bigquery client"
   ]
  },
  {
   "cell_type": "code",
   "execution_count": null,
   "id": "a45d020b-262e-4eba-b66b-a4cecb90f17a",
   "metadata": {},
   "outputs": [],
   "source": [
    "query = \"\"\"\n",
    "    SELECT *\n",
    "    FROM `dataengineer-310515.bigquery_lab.titanic`\n",
    "    LIMIT 10\n",
    "\"\"\"\n",
    "\n",
    "job_config = bigquery.job.QueryJobConfig(use_query_cache=False)\n",
    "results = bigquery_client.query(query=query, job_config=job_config).to_dataframe()"
   ]
  },
  {
   "cell_type": "code",
   "execution_count": null,
   "id": "fb35a7b0-94d5-4047-bbee-053bd8e5a382",
   "metadata": {},
   "outputs": [],
   "source": [
    "results.head()"
   ]
  },
  {
   "cell_type": "markdown",
   "id": "23dc254e-95a2-4901-9366-e9d48a2270a9",
   "metadata": {},
   "source": [
    "#### Download data to cloud storage"
   ]
  },
  {
   "cell_type": "code",
   "execution_count": null,
   "id": "fb294a96-bc42-4d70-afa9-1690742eaf23",
   "metadata": {},
   "outputs": [],
   "source": [
    "destination_uri = \"gs://bigquery-lab/titanic_backup.csv\"\n",
    "dataset = bigquery_client.dataset(dataset_id=\"bigquery_lab\")\n",
    "table = dataset.table(\"titanic\")\n",
    "\n",
    "extract_job = bigquery_client.extract_table(source=table, destination_uris=destination_uri)\n",
    "extract_job.result()"
   ]
  },
  {
   "cell_type": "markdown",
   "id": "9cbd3715",
   "metadata": {},
   "source": [
    "#### External table"
   ]
  },
  {
   "cell_type": "code",
   "execution_count": null,
   "id": "0585f274",
   "metadata": {},
   "outputs": [],
   "source": [
    "# Get schema from table\n",
    "\n",
    "table_name = \"housing\"\n",
    "dataset_name = \"bigquery_lab\"\n",
    "uri = \"gs://bigquery-lab/Housing.csv\"\n",
    "project_id = \"dataengineer-310515\"\n",
    "\n",
    "# Configure the external data source and query job.\n",
    "table_ref = bigquery.DatasetReference(project=project_id, dataset_id=dataset_name).table(table_name)\n",
    "\n",
    "schema = [\n",
    "    bigquery.SchemaField(name=\"price\", field_type=\"STRING\", mode=\"NULLABLE\"),\n",
    "    bigquery.SchemaField(name=\"area\", field_type=\"STRING\", mode=\"NULLABLE\"),\n",
    "    bigquery.SchemaField(name=\"bedrooms\", field_type=\"STRING\", mode=\"NULLABLE\"),\n",
    "    bigquery.SchemaField(name=\"bathrooms\", field_type=\"STRING\", mode=\"NULLABLE\"),\n",
    "    bigquery.SchemaField(name=\"stories\", field_type=\"STRING\", mode=\"NULLABLE\"),\n",
    "    bigquery.SchemaField(name=\"mainroad\", field_type=\"STRING\", mode=\"NULLABLE\"),\n",
    "    bigquery.SchemaField(name=\"guestroom\", field_type=\"STRING\", mode=\"NULLABLE\"),\n",
    "    bigquery.SchemaField(name=\"basement\", field_type=\"STRING\", mode=\"NULLABLE\"),\n",
    "    bigquery.SchemaField(name=\"hotwaterheating\", field_type=\"STRING\", mode=\"NULLABLE\"),\n",
    "    bigquery.SchemaField(name=\"airconditioning\", field_type=\"STRING\", mode=\"NULLABLE\"),\n",
    "    bigquery.SchemaField(name=\"parking\", field_type=\"STRING\", mode=\"NULLABLE\"),\n",
    "    bigquery.SchemaField(name=\"prefarea\", field_type=\"STRING\", mode=\"NULLABLE\"),\n",
    "    bigquery.SchemaField(name=\"furnishingstatus\", field_type=\"STRING\", mode=\"NULLABLE\")\n",
    "]\n",
    "\n",
    "table = bigquery.Table(table_ref, schema=schema)\n",
    "\n",
    "external_config = bigquery.ExternalConfig(\"CSV\")\n",
    "external_config.source_uris = [uri]\n",
    "external_config.options.field_delimiter = \",\"\n",
    "external_config.options.skip_leading_rows = 1\n",
    "\n",
    "table.external_data_configuration = external_config\n",
    "# Create a permanent table linked to the GCS file\n",
    "bigquery_client.delete_table(table=table, not_found_ok=True)\n",
    "bigquery_client.create_table(table=table, exists_ok=True)"
   ]
  },
  {
   "cell_type": "markdown",
   "id": "724fdc53",
   "metadata": {},
   "source": [
    "#### Get table schema"
   ]
  },
  {
   "cell_type": "code",
   "execution_count": null,
   "id": "a0e0fbc1",
   "metadata": {},
   "outputs": [],
   "source": [
    "table_name = \"titanic\"\n",
    "dataset_name = \"bigquery_lab\"\n",
    "\n",
    "\n",
    "table_ref = bigquery_client.get_dataset(dataset_ref=dataset_name).table(table_id=table_name)\n",
    "table = bigquery_client.get_table(table=table_ref)\n",
    "schema = table.schema\n",
    "\n",
    "schema"
   ]
  },
  {
   "cell_type": "code",
   "execution_count": null,
   "id": "f5f6678f",
   "metadata": {},
   "outputs": [],
   "source": []
  }
 ],
 "metadata": {
  "kernelspec": {
   "display_name": "Python 3 (ipykernel)",
   "language": "python",
   "name": "python3"
  },
  "language_info": {
   "codemirror_mode": {
    "name": "ipython",
    "version": 3
   },
   "file_extension": ".py",
   "mimetype": "text/x-python",
   "name": "python",
   "nbconvert_exporter": "python",
   "pygments_lexer": "ipython3",
   "version": "3.7.10"
  }
 },
 "nbformat": 4,
 "nbformat_minor": 5
}
