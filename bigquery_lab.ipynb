{
 "cells": [
  {
   "cell_type": "code",
   "execution_count": null,
   "id": "a99de8a4",
   "metadata": {},
   "outputs": [],
   "source": [
    "#!pip install --upgrade google-cloud-bigquery[bqstorage,pandas]\n",
    "#!pip install google-cloud-bigquery-storage"
   ]
  },
  {
   "cell_type": "code",
   "execution_count": 79,
   "id": "b8d1ebbe",
   "metadata": {},
   "outputs": [],
   "source": [
    "import os\n",
    "from google.cloud import bigquery\n",
    "from google.cloud import bigquery_storage"
   ]
  },
  {
   "cell_type": "code",
   "execution_count": 2,
   "id": "ff656219",
   "metadata": {},
   "outputs": [
    {
     "data": {
      "text/plain": [
       "'2.13.1'"
      ]
     },
     "execution_count": 2,
     "metadata": {},
     "output_type": "execute_result"
    }
   ],
   "source": [
    "bigquery.__version__"
   ]
  },
  {
   "cell_type": "markdown",
   "id": "f0d7628e",
   "metadata": {},
   "source": [
    "#### Requirements\n",
    "In order to execute the lab, you need create a service account with the following roles:\n",
    "- BigQuery Data Editor\n",
    "- BigQuery Job User\n",
    "- BigQuery Read Session User\n",
    "- Storage Admin"
   ]
  },
  {
   "cell_type": "code",
   "execution_count": 3,
   "id": "1d2362d7",
   "metadata": {},
   "outputs": [],
   "source": [
    "service_account = os.path.dirname(os.path.realpath('__file__')) + \"/service-account.json\"\n",
    "os.environ[\"GOOGLE_APPLICATION_CREDENTIALS\"] = service_account"
   ]
  },
  {
   "cell_type": "code",
   "execution_count": null,
   "id": "36a6e1e9-ede4-45be-a7ef-f76d291ac108",
   "metadata": {},
   "outputs": [],
   "source": [
    "# Bigquery instance\n",
    "bigquery_client = bigquery.Client()"
   ]
  },
  {
   "cell_type": "markdown",
   "id": "9f05fc66-7d0d-4ac5-8829-9a14302f1572",
   "metadata": {},
   "source": [
    "#### Create dataset and table"
   ]
  },
  {
   "cell_type": "code",
   "execution_count": null,
   "id": "71e9401a-6a1b-4f8d-bc4a-bac8e98f4d22",
   "metadata": {},
   "outputs": [],
   "source": [
    "# Create dataset\n",
    "dataset = bigquery_client.create_dataset(dataset=\"bigquery_lab\")"
   ]
  },
  {
   "cell_type": "code",
   "execution_count": 65,
   "id": "de42b5f1-6e24-4a06-814a-ee58ee1660c1",
   "metadata": {},
   "outputs": [
    {
     "name": "stdout",
     "output_type": "stream",
     "text": [
      "Person\n"
     ]
    }
   ],
   "source": [
    "# Create table\n",
    "table = dataset.table(table_id=\"Person\")\n",
    "schema = [\n",
    "    bigquery.SchemaField(name=\"name\", field_type=\"STRING\", mode=\"REQUIRED\"),\n",
    "    bigquery.SchemaField(name=\"age\", field_type=\"INTEGER\", mode=\"REQUIRED\")\n",
    "]\n",
    "table = bigquery.Table(table_ref=table, schema=schema)\n",
    "table = bigquery_client.create_table(table=table) \n",
    "print(table.table_id)"
   ]
  },
  {
   "cell_type": "markdown",
   "id": "e96903c9-34d8-43cd-8ac5-7e95e22293d0",
   "metadata": {},
   "source": [
    "#### Import csv from google storage"
   ]
  },
  {
   "cell_type": "code",
   "execution_count": 62,
   "id": "7a4e2886-f244-4363-8ee1-aba7c883588c",
   "metadata": {},
   "outputs": [],
   "source": [
    "uri = \"gs://bigquery-lab/housing.csv\"\n",
    "\n",
    "try:\n",
    "    dataset = bigquery_client.dataset(dataset_id=\"bigquery_lab\")\n",
    "    # Create table\n",
    "    table = dataset.table(table_id=\"housing\")\n",
    "    \n",
    "    # Create schema\n",
    "    job_config = bigquery.job.LoadJobConfig(\n",
    "        schema = [\n",
    "            bigquery.SchemaField(\"CRIM\", \"Float\"),\n",
    "            bigquery.SchemaField(\"ZN\", \"Float\"),\n",
    "            bigquery.SchemaField(\"INDUS\", \"Float\"),\n",
    "            bigquery.SchemaField(\"CHAS\", \"Integer\"),\n",
    "            bigquery.SchemaField(\"NOX\", \"Float\"),\n",
    "            bigquery.SchemaField(\"RM\", \"Float\"),\n",
    "            bigquery.SchemaField(\"AGE\", \"FLOAT\"),\n",
    "            bigquery.SchemaField(\"DIS\", \"Float\"),\n",
    "            bigquery.SchemaField(\"RAD\", \"Float\"),\n",
    "            bigquery.SchemaField(\"TAX\", \"Float\"),\n",
    "            bigquery.SchemaField(\"PTRATIO\", \"Float\"),\n",
    "            bigquery.SchemaField(\"B\", \"FLOAT\"),\n",
    "            bigquery.SchemaField(\"LSTAT\", \"Float\"),\n",
    "            bigquery.SchemaField(\"MEDV\", \"Float\")\n",
    "        ],\n",
    "        job_config.source_format = bigquery.SourceFormat.CSV,\n",
    "        job_config.field_delimiter = \",\",\n",
    "        job_config.skip_leading_rows = 1\n",
    "    )\n",
    "\n",
    "    load_job = bigquery_client.load_table_from_uri(source_uris=uri, location=table, job_config=job_config)\n",
    "\n",
    "    load_job.result()\n",
    "except Exception as err:\n",
    "    print(err)"
   ]
  },
  {
   "cell_type": "code",
   "execution_count": 54,
   "id": "48ab05a0-32e6-4147-8818-b291be8837a0",
   "metadata": {},
   "outputs": [],
   "source": [
    "uri = \"gs://bigquery-lab/titanic.csv\"\n",
    "\n",
    "try:\n",
    "    dataset = bigquery_client.dataset(dataset_id=\"bigquery_lab\")\n",
    "    table = dataset.table(table_id=\"titanic\")\n",
    "    job_config = bigquery.job.LoadJobConfig(\n",
    "        autodetect=True,\n",
    "        field_delimiter=\";\",\n",
    "        source_format=bigquery.SourceFormat.CSV\n",
    "    )\n",
    "\n",
    "    load_job = bigquery_client.load_table_from_uri(source_uris=ruri, location=table, job_config=job_config)\n",
    "\n",
    "    load_job.result()\n",
    "except Exception as err:\n",
    "    print(err)"
   ]
  },
  {
   "cell_type": "markdown",
   "id": "138b75cb-f00d-4ccf-a698-d1f372ec80fe",
   "metadata": {},
   "source": [
    "#### Quering data with bigquery client"
   ]
  },
  {
   "cell_type": "code",
   "execution_count": 67,
   "id": "a45d020b-262e-4eba-b66b-a4cecb90f17a",
   "metadata": {},
   "outputs": [],
   "source": [
    "query = \"\"\"\n",
    "    SELECT *\n",
    "    FROM `dataengineer-310515.bigquery_lab.titanic`\n",
    "    LIMIT 10\n",
    "\"\"\"\n",
    "\n",
    "job_config = bigquery.job.QueryJobConfig(use_query_cache=False)\n",
    "results = bigquery_client.query(query=query, job_config=job_config).to_dataframe()"
   ]
  },
  {
   "cell_type": "code",
   "execution_count": 68,
   "id": "fb35a7b0-94d5-4047-bbee-053bd8e5a382",
   "metadata": {},
   "outputs": [
    {
     "data": {
      "text/html": [
       "<div>\n",
       "<style scoped>\n",
       "    .dataframe tbody tr th:only-of-type {\n",
       "        vertical-align: middle;\n",
       "    }\n",
       "\n",
       "    .dataframe tbody tr th {\n",
       "        vertical-align: top;\n",
       "    }\n",
       "\n",
       "    .dataframe thead th {\n",
       "        text-align: right;\n",
       "    }\n",
       "</style>\n",
       "<table border=\"1\" class=\"dataframe\">\n",
       "  <thead>\n",
       "    <tr style=\"text-align: right;\">\n",
       "      <th></th>\n",
       "      <th>PassengerId</th>\n",
       "      <th>Survived</th>\n",
       "      <th>Pclass</th>\n",
       "      <th>Name</th>\n",
       "      <th>Sex</th>\n",
       "      <th>Age</th>\n",
       "      <th>SibSp</th>\n",
       "      <th>Parch</th>\n",
       "      <th>Ticket</th>\n",
       "      <th>Fare</th>\n",
       "      <th>Cabin</th>\n",
       "      <th>Embarked</th>\n",
       "    </tr>\n",
       "  </thead>\n",
       "  <tbody>\n",
       "    <tr>\n",
       "      <th>0</th>\n",
       "      <td>180</td>\n",
       "      <td>0</td>\n",
       "      <td>3</td>\n",
       "      <td>Leonard, Mr. Lionel</td>\n",
       "      <td>male</td>\n",
       "      <td>36.0</td>\n",
       "      <td>0</td>\n",
       "      <td>0</td>\n",
       "      <td>LINE</td>\n",
       "      <td>0.0</td>\n",
       "      <td>None</td>\n",
       "      <td>S</td>\n",
       "    </tr>\n",
       "    <tr>\n",
       "      <th>1</th>\n",
       "      <td>264</td>\n",
       "      <td>0</td>\n",
       "      <td>1</td>\n",
       "      <td>Harrison, Mr. William</td>\n",
       "      <td>male</td>\n",
       "      <td>40.0</td>\n",
       "      <td>0</td>\n",
       "      <td>0</td>\n",
       "      <td>112059</td>\n",
       "      <td>0.0</td>\n",
       "      <td>B94</td>\n",
       "      <td>S</td>\n",
       "    </tr>\n",
       "    <tr>\n",
       "      <th>2</th>\n",
       "      <td>278</td>\n",
       "      <td>0</td>\n",
       "      <td>2</td>\n",
       "      <td>Parkes, Mr. Francis \"Frank\"</td>\n",
       "      <td>male</td>\n",
       "      <td>NaN</td>\n",
       "      <td>0</td>\n",
       "      <td>0</td>\n",
       "      <td>239853</td>\n",
       "      <td>0.0</td>\n",
       "      <td>None</td>\n",
       "      <td>S</td>\n",
       "    </tr>\n",
       "    <tr>\n",
       "      <th>3</th>\n",
       "      <td>303</td>\n",
       "      <td>0</td>\n",
       "      <td>3</td>\n",
       "      <td>Johnson, Mr. William Cahoone Jr</td>\n",
       "      <td>male</td>\n",
       "      <td>19.0</td>\n",
       "      <td>0</td>\n",
       "      <td>0</td>\n",
       "      <td>LINE</td>\n",
       "      <td>0.0</td>\n",
       "      <td>None</td>\n",
       "      <td>S</td>\n",
       "    </tr>\n",
       "    <tr>\n",
       "      <th>4</th>\n",
       "      <td>414</td>\n",
       "      <td>0</td>\n",
       "      <td>2</td>\n",
       "      <td>Cunningham, Mr. Alfred Fleming</td>\n",
       "      <td>male</td>\n",
       "      <td>NaN</td>\n",
       "      <td>0</td>\n",
       "      <td>0</td>\n",
       "      <td>239853</td>\n",
       "      <td>0.0</td>\n",
       "      <td>None</td>\n",
       "      <td>S</td>\n",
       "    </tr>\n",
       "  </tbody>\n",
       "</table>\n",
       "</div>"
      ],
      "text/plain": [
       "   PassengerId  Survived  Pclass                             Name   Sex   Age  \\\n",
       "0          180         0       3              Leonard, Mr. Lionel  male  36.0   \n",
       "1          264         0       1            Harrison, Mr. William  male  40.0   \n",
       "2          278         0       2      Parkes, Mr. Francis \"Frank\"  male   NaN   \n",
       "3          303         0       3  Johnson, Mr. William Cahoone Jr  male  19.0   \n",
       "4          414         0       2   Cunningham, Mr. Alfred Fleming  male   NaN   \n",
       "\n",
       "   SibSp  Parch  Ticket  Fare Cabin Embarked  \n",
       "0      0      0    LINE   0.0  None        S  \n",
       "1      0      0  112059   0.0   B94        S  \n",
       "2      0      0  239853   0.0  None        S  \n",
       "3      0      0    LINE   0.0  None        S  \n",
       "4      0      0  239853   0.0  None        S  "
      ]
     },
     "execution_count": 68,
     "metadata": {},
     "output_type": "execute_result"
    }
   ],
   "source": [
    "results.head()"
   ]
  },
  {
   "cell_type": "markdown",
   "id": "23dc254e-95a2-4901-9366-e9d48a2270a9",
   "metadata": {},
   "source": [
    "#### Download data to cloud storage"
   ]
  },
  {
   "cell_type": "code",
   "execution_count": 96,
   "id": "fb294a96-bc42-4d70-afa9-1690742eaf23",
   "metadata": {},
   "outputs": [],
   "source": [
    "destination_uri = \"gs://bigquery-lab/titanic_backup.csv\"\n",
    "dataset = bigquery_client.dataset(dataset_id=\"bigquery_lab\")\n",
    "table = dataset.table(\"titanic\")\n",
    "\n",
    "extract_job = bigquery_client.extract_table(source=table, destination_uris=destination_uri)\n",
    "extract_job.result()"
   ]
  }
 ],
 "metadata": {
  "kernelspec": {
   "display_name": "Python 3",
   "language": "python",
   "name": "python3"
  },
  "language_info": {
   "codemirror_mode": {
    "name": "ipython",
    "version": 3
   },
   "file_extension": ".py",
   "mimetype": "text/x-python",
   "name": "python",
   "nbconvert_exporter": "python",
   "pygments_lexer": "ipython3",
   "version": "3.7.10"
  }
 },
 "nbformat": 4,
 "nbformat_minor": 5
}
